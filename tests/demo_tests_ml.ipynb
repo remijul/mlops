{
 "cells": [
  {
   "cell_type": "markdown",
   "metadata": {},
   "source": [
    "# Python tests\n",
    "Some examples of tests applied during the development of ML models :\n",
    "- preprocessing\n",
    "- training\n",
    "- gridsearch & hyperparameters tuning"
   ]
  },
  {
   "cell_type": "markdown",
   "metadata": {},
   "source": [
    "## Preprocessing of data with sklearn"
   ]
  },
  {
   "cell_type": "code",
   "execution_count": 14,
   "metadata": {},
   "outputs": [],
   "source": [
    "from sklearn.preprocessing import StandardScaler, OneHotEncoder\n",
    "import numpy as np\n",
    "\n",
    "# Fonction pour normaliser les données\n",
    "def normalize_data(data):\n",
    "    scaler = StandardScaler()\n",
    "    return scaler.fit_transform(data)\n",
    "\n",
    "# Fonction pour encoder les variables catégorielles\n",
    "def encode_categorical(data):\n",
    "    encoder = OneHotEncoder(sparse_output=False)\n",
    "    return encoder.fit_transform(data)\n",
    "\n",
    "# Exemple de test pour la normalisation des données\n",
    "def test_normalize_data():\n",
    "    data = np.array([[1, 2, 3], [4, 5, 6], [7, 8, 9]])\n",
    "    # Generate ERROR with :\n",
    "    #data = np.array([[0, 0, 0], [4, 5, 6], [7, 8, 9]])\n",
    "    normalized_data = normalize_data(data)\n",
    "    assert np.allclose(normalized_data.mean(axis=0), 0, rtol=0, atol=0), \"Error : scaling (with mean) process failed\"\n",
    "    assert np.allclose(normalized_data.std(axis=0), 1, rtol=0, atol=0), \"Error : scaling (with sd) process failed\"\n",
    "\n",
    "# Exemple de test pour l'encodage des variables catégorielles\n",
    "def test_encode_categorical():\n",
    "    data = np.array([['cat'], ['dog'], ['cat']])\n",
    "    encoded_data = encode_categorical(data)\n",
    "    expected_data = np.array([[1, 0], [0, 1], [1, 0]])\n",
    "    # Generate ERROR with :\n",
    "    # expected_data = np.array([[0, 0], [0, 1], [1, 0]])\n",
    "    assert np.array_equal(encoded_data, expected_data), \"Error : encoding process failed\"\n"
   ]
  },
  {
   "cell_type": "code",
   "execution_count": 15,
   "metadata": {},
   "outputs": [],
   "source": [
    "test_normalize_data()"
   ]
  },
  {
   "cell_type": "code",
   "execution_count": 7,
   "metadata": {},
   "outputs": [],
   "source": [
    "test_encode_categorical()"
   ]
  },
  {
   "cell_type": "markdown",
   "metadata": {},
   "source": [
    "## Train a classifier model with sklearn"
   ]
  },
  {
   "cell_type": "code",
   "execution_count": 18,
   "metadata": {},
   "outputs": [],
   "source": [
    "from sklearn.datasets import load_iris\n",
    "from sklearn.model_selection import train_test_split\n",
    "from sklearn.svm import SVC\n",
    "from sklearn.metrics import accuracy_score\n",
    "\n",
    "# Fonction pour entraîner un modèle de classification\n",
    "def train_classifier(X_train, y_train):\n",
    "    model = SVC()\n",
    "    model.fit(X_train, y_train)\n",
    "    return model\n",
    "\n",
    "# Exemple de test pour l'entraînement du modèle\n",
    "def test_train_classifier():\n",
    "    X, y = load_iris(return_X_y=True)\n",
    "    X_train, X_test, y_train, y_test = train_test_split(X, y, test_size=0.2, random_state=42)\n",
    "    model = train_classifier(X_train, y_train)\n",
    "    \n",
    "    predictions = model.predict(X_test)\n",
    "    accuracy = accuracy_score(y_test, predictions)\n",
    "    assert accuracy > 0.7, \"Error - Performance not greater than 0.7 (70%)\"\n",
    "    # Generate ERROR with :\n",
    "    assert accuracy > 1, \"Error - Performance not greater than 1 (100%) :)\""
   ]
  },
  {
   "cell_type": "code",
   "execution_count": 19,
   "metadata": {},
   "outputs": [
    {
     "ename": "AssertionError",
     "evalue": "Error - Performance not greater than 1 (100%) :)",
     "output_type": "error",
     "traceback": [
      "\u001b[1;31m---------------------------------------------------------------------------\u001b[0m",
      "\u001b[1;31mAssertionError\u001b[0m                            Traceback (most recent call last)",
      "Cell \u001b[1;32mIn[19], line 1\u001b[0m\n\u001b[1;32m----> 1\u001b[0m \u001b[43mtest_train_classifier\u001b[49m\u001b[43m(\u001b[49m\u001b[43m)\u001b[49m\n",
      "Cell \u001b[1;32mIn[18], line 22\u001b[0m, in \u001b[0;36mtest_train_classifier\u001b[1;34m()\u001b[0m\n\u001b[0;32m     20\u001b[0m \u001b[38;5;28;01massert\u001b[39;00m accuracy \u001b[38;5;241m>\u001b[39m \u001b[38;5;241m0.7\u001b[39m, \u001b[38;5;124m\"\u001b[39m\u001b[38;5;124mError - Performance not greater than 0.7 (70\u001b[39m\u001b[38;5;124m%\u001b[39m\u001b[38;5;124m)\u001b[39m\u001b[38;5;124m\"\u001b[39m\n\u001b[0;32m     21\u001b[0m \u001b[38;5;66;03m# Generate ERROR with :\u001b[39;00m\n\u001b[1;32m---> 22\u001b[0m \u001b[38;5;28;01massert\u001b[39;00m accuracy \u001b[38;5;241m>\u001b[39m \u001b[38;5;241m1\u001b[39m, \u001b[38;5;124m\"\u001b[39m\u001b[38;5;124mError - Performance not greater than 1 (100\u001b[39m\u001b[38;5;124m%\u001b[39m\u001b[38;5;124m) :)\u001b[39m\u001b[38;5;124m\"\u001b[39m\n",
      "\u001b[1;31mAssertionError\u001b[0m: Error - Performance not greater than 1 (100%) :)"
     ]
    }
   ],
   "source": [
    "test_train_classifier()"
   ]
  },
  {
   "cell_type": "markdown",
   "metadata": {},
   "source": [
    "## Grid search & Hyperparameters tuning with GridSearchCV & sklearn"
   ]
  },
  {
   "cell_type": "code",
   "execution_count": 20,
   "metadata": {},
   "outputs": [],
   "source": [
    "from sklearn.model_selection import GridSearchCV\n",
    "from sklearn.ensemble import RandomForestClassifier\n",
    "\n",
    "# Fonction pour effectuer une recherche d'hyperparamètres\n",
    "def hyperparameter_search(X, y):\n",
    "    param_grid = {'n_estimators': [10, 50, 100], 'max_depth': [None, 10, 20, 30]}\n",
    "    grid_search = GridSearchCV(RandomForestClassifier(), param_grid, cv=3)\n",
    "    grid_search.fit(X, y)\n",
    "    return grid_search\n",
    "\n",
    "# Exemple de test pour la recherche d'hyperparamètres\n",
    "def test_hyperparameter_search():\n",
    "    X, y = load_iris(return_X_y=True)\n",
    "    grid_search = hyperparameter_search(X, y)\n",
    "    \n",
    "    best_params = grid_search.best_params_\n",
    "    assert 'n_estimators' in best_params, \"Error - Failed to retrieve 'n_estimators' in best params\"\n",
    "    assert 'max_depth' in best_params, \"Error - Failed to retrieve 'max_depth' in best params\"\n",
    "\n",
    "# Exemple de test pour évaluer le modèle avec les meilleurs paramètres\n",
    "def test_best_model_performance():\n",
    "    X, y = load_iris(return_X_y=True)\n",
    "    grid_search = hyperparameter_search(X, y)\n",
    "    \n",
    "    best_model = grid_search.best_estimator_\n",
    "    baseline_model = RandomForestClassifier()\n",
    "    baseline_model.fit(X, y)\n",
    "    \n",
    "    best_score = best_model.score(X, y)\n",
    "    baseline_score = baseline_model.score(X, y)\n",
    "    \n",
    "    assert best_score >= baseline_score\n",
    "    # Generate ERROR with :\n",
    "    assert best_score > 1, \"Error - Performance of best model not greater than baseline model :)\"\n"
   ]
  },
  {
   "cell_type": "code",
   "execution_count": 21,
   "metadata": {},
   "outputs": [],
   "source": [
    "test_hyperparameter_search()"
   ]
  },
  {
   "cell_type": "code",
   "execution_count": 22,
   "metadata": {},
   "outputs": [
    {
     "ename": "AssertionError",
     "evalue": "Error - Performance of best model not greater than baseline model :)",
     "output_type": "error",
     "traceback": [
      "\u001b[1;31m---------------------------------------------------------------------------\u001b[0m",
      "\u001b[1;31mAssertionError\u001b[0m                            Traceback (most recent call last)",
      "Cell \u001b[1;32mIn[22], line 1\u001b[0m\n\u001b[1;32m----> 1\u001b[0m \u001b[43mtest_best_model_performance\u001b[49m\u001b[43m(\u001b[49m\u001b[43m)\u001b[49m\n",
      "Cell \u001b[1;32mIn[20], line 34\u001b[0m, in \u001b[0;36mtest_best_model_performance\u001b[1;34m()\u001b[0m\n\u001b[0;32m     32\u001b[0m \u001b[38;5;28;01massert\u001b[39;00m best_score \u001b[38;5;241m>\u001b[39m\u001b[38;5;241m=\u001b[39m baseline_score\n\u001b[0;32m     33\u001b[0m \u001b[38;5;66;03m# Generate ERROR with :\u001b[39;00m\n\u001b[1;32m---> 34\u001b[0m \u001b[38;5;28;01massert\u001b[39;00m best_score \u001b[38;5;241m>\u001b[39m \u001b[38;5;241m1\u001b[39m, \u001b[38;5;124m\"\u001b[39m\u001b[38;5;124mError - Performance of best model not greater than baseline model :)\u001b[39m\u001b[38;5;124m\"\u001b[39m\n",
      "\u001b[1;31mAssertionError\u001b[0m: Error - Performance of best model not greater than baseline model :)"
     ]
    }
   ],
   "source": [
    "test_best_model_performance()"
   ]
  }
 ],
 "metadata": {
  "kernelspec": {
   "display_name": "venv",
   "language": "python",
   "name": "python3"
  },
  "language_info": {
   "codemirror_mode": {
    "name": "ipython",
    "version": 3
   },
   "file_extension": ".py",
   "mimetype": "text/x-python",
   "name": "python",
   "nbconvert_exporter": "python",
   "pygments_lexer": "ipython3",
   "version": "3.11.9"
  }
 },
 "nbformat": 4,
 "nbformat_minor": 2
}
